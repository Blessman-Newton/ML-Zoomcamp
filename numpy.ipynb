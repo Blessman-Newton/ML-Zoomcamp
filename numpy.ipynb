{
 "cells": [
  {
   "cell_type": "markdown",
   "id": "b7b86cb6-cbcb-4971-a6ea-847dcb9f90c2",
   "metadata": {},
   "source": [
    "# Machine Learning Zoomcamp"
   ]
  },
  {
   "cell_type": "markdown",
   "id": "843c7df1-7588-4956-b208-2f41ce201f61",
   "metadata": {},
   "source": [
    "#### 1.7 Introduction to Numpy"
   ]
  },
  {
   "cell_type": "markdown",
   "id": "e3d0b138-92c0-4f61-ab42-84e485428a04",
   "metadata": {},
   "source": [
    "#### Plan:"
   ]
  },
  {
   "cell_type": "markdown",
   "id": "7b314e00-fe16-4bc5-be8b-a447bc95b36d",
   "metadata": {},
   "source": [
    "<ul> <li>Creating arrays</li>\n",
    "    <li>Multi-dementional arrays</li>\n",
    "    <li>Ramdomly generated arrays</li>\n",
    "    <li>Element-wise operation\n",
    "        <ul>\n",
    "            <li>Comparision operation</li>\n",
    "            <li>Logical Operation</li>\n",
    "        </ul>\n",
    "    </li>\n",
    "    <li>Summarizing operation</li>\n",
    "</ul>\n"
   ]
  },
  {
   "cell_type": "code",
   "execution_count": 8,
   "id": "09873e8e-9273-4bac-9cb9-a11ec8f96fb6",
   "metadata": {},
   "outputs": [],
   "source": [
    "import numpy as np"
   ]
  },
  {
   "cell_type": "code",
   "execution_count": 9,
   "id": "175abd51-4d72-4dbb-bbb3-0d87c4de24d7",
   "metadata": {},
   "outputs": [
    {
     "data": {
      "text/plain": [
       "<module 'numpy' from 'C:\\\\Users\\\\bless\\\\AppData\\\\Roaming\\\\Python\\\\Python312\\\\site-packages\\\\numpy\\\\__init__.py'>"
      ]
     },
     "execution_count": 9,
     "metadata": {},
     "output_type": "execute_result"
    }
   ],
   "source": [
    "np"
   ]
  },
  {
   "cell_type": "code",
   "execution_count": 10,
   "id": "ee7f7823-8983-49bb-9709-926773a86b33",
   "metadata": {},
   "outputs": [
    {
     "data": {
      "text/plain": [
       "array([0., 0., 0., 0., 0., 0., 0., 0., 0., 0., 0., 0., 0., 0., 0., 0., 0.,\n",
       "       0., 0., 0., 0., 0., 0., 0., 0., 0., 0., 0., 0., 0., 0., 0., 0., 0.,\n",
       "       0., 0., 0., 0., 0., 0., 0., 0., 0., 0., 0., 0., 0., 0., 0., 0., 0.,\n",
       "       0., 0., 0., 0., 0., 0., 0., 0., 0., 0., 0., 0., 0., 0., 0., 0., 0.,\n",
       "       0., 0., 0., 0., 0., 0., 0., 0., 0., 0., 0., 0., 0., 0., 0., 0., 0.,\n",
       "       0., 0., 0., 0., 0., 0., 0., 0., 0., 0., 0., 0., 0., 0., 0.])"
      ]
     },
     "execution_count": 10,
     "metadata": {},
     "output_type": "execute_result"
    }
   ],
   "source": [
    "np.zeros(100)"
   ]
  },
  {
   "cell_type": "code",
   "execution_count": 11,
   "id": "84afdf52-46f9-42c8-a7a6-8ebff7920f61",
   "metadata": {},
   "outputs": [
    {
     "data": {
      "text/plain": [
       "array([1., 1., 1., 1., 1., 1., 1., 1., 1., 1., 1., 1., 1., 1., 1., 1., 1.,\n",
       "       1., 1., 1., 1., 1., 1., 1., 1., 1., 1., 1., 1., 1., 1., 1., 1., 1.,\n",
       "       1., 1., 1., 1., 1., 1., 1., 1., 1., 1., 1., 1., 1., 1., 1., 1., 1.,\n",
       "       1., 1., 1., 1., 1., 1., 1., 1., 1., 1., 1., 1., 1., 1., 1., 1., 1.,\n",
       "       1., 1., 1., 1., 1., 1., 1., 1., 1., 1., 1., 1., 1., 1., 1., 1., 1.,\n",
       "       1., 1., 1., 1., 1., 1., 1., 1., 1., 1., 1., 1., 1., 1., 1.])"
      ]
     },
     "execution_count": 11,
     "metadata": {},
     "output_type": "execute_result"
    }
   ],
   "source": [
    "np.ones(100)"
   ]
  },
  {
   "cell_type": "code",
   "execution_count": 12,
   "id": "c9222d1b-f60d-4a11-9ed1-7ffd5f5b5618",
   "metadata": {},
   "outputs": [
    {
     "data": {
      "text/plain": [
       "array([4, 4, 4, 4, 4, 4, 4, 4, 4, 4])"
      ]
     },
     "execution_count": 12,
     "metadata": {},
     "output_type": "execute_result"
    }
   ],
   "source": [
    "np.full(10, 4)"
   ]
  },
  {
   "cell_type": "code",
   "execution_count": 13,
   "id": "82f26eb0-d559-479e-8cf4-9139615c88a2",
   "metadata": {},
   "outputs": [
    {
     "data": {
      "text/plain": [
       "array([10, 11, 12, 13, 14, 15, 16, 17, 18, 19])"
      ]
     },
     "execution_count": 13,
     "metadata": {},
     "output_type": "execute_result"
    }
   ],
   "source": [
    "np.arange(10, 20)"
   ]
  },
  {
   "cell_type": "code",
   "execution_count": 14,
   "id": "b9aafe64-d818-47f8-a058-2f80544ae2c5",
   "metadata": {},
   "outputs": [
    {
     "data": {
      "text/plain": [
       "array([  0.,  10.,  20.,  30.,  40.,  50.,  60.,  70.,  80.,  90., 100.])"
      ]
     },
     "execution_count": 14,
     "metadata": {},
     "output_type": "execute_result"
    }
   ],
   "source": [
    "lin = np.linspace(0, 100, 11)\n",
    "lin"
   ]
  },
  {
   "cell_type": "code",
   "execution_count": 15,
   "id": "0700d1ec-83df-4a87-bd09-93c0ad42f430",
   "metadata": {},
   "outputs": [
    {
     "data": {
      "text/plain": [
       "array([  0.,  10.,  20.,  12.,  40.,  50.,  60.,  70.,  80.,  90., 100.])"
      ]
     },
     "execution_count": 15,
     "metadata": {},
     "output_type": "execute_result"
    }
   ],
   "source": [
    "lin[3] = 12\n",
    "lin"
   ]
  },
  {
   "cell_type": "markdown",
   "id": "49f5a8ea-3325-4c99-ac2f-35eb1dbe10fc",
   "metadata": {},
   "source": [
    "## Multi-dementional arrays"
   ]
  },
  {
   "cell_type": "code",
   "execution_count": 17,
   "id": "0c124e18-a03e-40e1-8676-96683b6dbca7",
   "metadata": {},
   "outputs": [
    {
     "data": {
      "text/plain": [
       "array([[0., 0., 0., 0., 0., 0.],\n",
       "       [0., 0., 0., 0., 0., 0.],\n",
       "       [0., 0., 0., 0., 0., 0.],\n",
       "       [0., 0., 0., 0., 0., 0.],\n",
       "       [0., 0., 0., 0., 0., 0.]])"
      ]
     },
     "execution_count": 17,
     "metadata": {},
     "output_type": "execute_result"
    }
   ],
   "source": [
    "np.zeros((5, 6))"
   ]
  },
  {
   "cell_type": "code",
   "execution_count": 18,
   "id": "196b59a5-dc6f-41b4-bc50-e1b30ce1d2c8",
   "metadata": {},
   "outputs": [
    {
     "data": {
      "text/plain": [
       "array([[2, 4, 1],\n",
       "       [6, 3, 6],\n",
       "       [2, 8, 9],\n",
       "       [6, 1, 2]])"
      ]
     },
     "execution_count": 18,
     "metadata": {},
     "output_type": "execute_result"
    }
   ],
   "source": [
    "n = np.array([\n",
    "    [2, 4, 1],\n",
    "    [6, 3, 6],\n",
    "    [2, 8, 9],\n",
    "    [6, 1, 2],\n",
    "])\n",
    "\n",
    "n"
   ]
  },
  {
   "cell_type": "code",
   "execution_count": 19,
   "id": "8ddc94d0-954a-4caa-a72f-c4b24d4260c2",
   "metadata": {},
   "outputs": [
    {
     "data": {
      "text/plain": [
       "array([[2, 4, 1],\n",
       "       [6, 3, 6],\n",
       "       [2, 8, 9],\n",
       "       [6, 1, 1]])"
      ]
     },
     "execution_count": 19,
     "metadata": {},
     "output_type": "execute_result"
    }
   ],
   "source": [
    "n[3, 2] = 1\n",
    "n"
   ]
  },
  {
   "cell_type": "code",
   "execution_count": 20,
   "id": "221b1109-851d-498d-b512-4088b07a1189",
   "metadata": {},
   "outputs": [
    {
     "data": {
      "text/plain": [
       "array([[2, 4, 1],\n",
       "       [6, 3, 6],\n",
       "       [2, 3, 3],\n",
       "       [6, 1, 1]])"
      ]
     },
     "execution_count": 20,
     "metadata": {},
     "output_type": "execute_result"
    }
   ],
   "source": [
    "n[2] = [2, 3, 3]\n",
    "n"
   ]
  },
  {
   "cell_type": "code",
   "execution_count": 21,
   "id": "ad08a961-ae0b-44d0-835b-5aebf07d58f6",
   "metadata": {},
   "outputs": [
    {
     "data": {
      "text/plain": [
       "array([4, 3, 3, 1])"
      ]
     },
     "execution_count": 21,
     "metadata": {},
     "output_type": "execute_result"
    }
   ],
   "source": [
    "n[:, 1]"
   ]
  },
  {
   "cell_type": "code",
   "execution_count": 22,
   "id": "6ea6614f-5e78-4650-86c6-042c77acc82e",
   "metadata": {},
   "outputs": [
    {
     "data": {
      "text/plain": [
       "array([[2, 1, 1],\n",
       "       [6, 0, 6],\n",
       "       [2, 0, 3],\n",
       "       [6, 1, 1]])"
      ]
     },
     "execution_count": 22,
     "metadata": {},
     "output_type": "execute_result"
    }
   ],
   "source": [
    "n[:, 1] = [1,0,0,1]\n",
    "n"
   ]
  },
  {
   "cell_type": "markdown",
   "id": "7dc87bac-81d9-4350-b2cd-84dbd1eaab46",
   "metadata": {},
   "source": [
    "### Ramdomly generated arrays"
   ]
  },
  {
   "cell_type": "code",
   "execution_count": 67,
   "id": "666e53cd-7d43-46f1-8428-2b00f852b5b8",
   "metadata": {},
   "outputs": [
    {
     "data": {
      "text/plain": [
       "array([[0.08074127, 0.7384403 ],\n",
       "       [0.44130922, 0.15830987],\n",
       "       [0.87993703, 0.27408646],\n",
       "       [0.41423502, 0.29607993],\n",
       "       [0.62878791, 0.57983781]])"
      ]
     },
     "execution_count": 67,
     "metadata": {},
     "output_type": "execute_result"
    }
   ],
   "source": [
    "np.random.rand(5,2)"
   ]
  },
  {
   "cell_type": "code",
   "execution_count": 69,
   "id": "76dff243-06a5-4023-89d6-99dcb5c8d341",
   "metadata": {},
   "outputs": [
    {
     "data": {
      "text/plain": [
       "array([[0.22199317, 0.87073231],\n",
       "       [0.20671916, 0.91861091],\n",
       "       [0.48841119, 0.61174386],\n",
       "       [0.76590786, 0.51841799],\n",
       "       [0.2968005 , 0.18772123]])"
      ]
     },
     "execution_count": 69,
     "metadata": {},
     "output_type": "execute_result"
    }
   ],
   "source": [
    "np.random.seed(5)\n",
    "np.random.rand(5,2)"
   ]
  },
  {
   "cell_type": "markdown",
   "id": "64846a4d-571e-45cc-8da2-b06ab0c020d8",
   "metadata": {},
   "source": [
    "## Element-wise operation"
   ]
  },
  {
   "cell_type": "code",
   "execution_count": 72,
   "id": "f7f9e426-16fc-4b78-b7fc-015f271ddfc7",
   "metadata": {},
   "outputs": [],
   "source": [
    "a = np.array([1, 4, 6, 7])"
   ]
  },
  {
   "cell_type": "code",
   "execution_count": 74,
   "id": "56d9ffe3-b79a-4b83-b6f3-51ccb641c626",
   "metadata": {},
   "outputs": [
    {
     "data": {
      "text/plain": [
       "array([101, 104, 106, 107])"
      ]
     },
     "execution_count": 74,
     "metadata": {},
     "output_type": "execute_result"
    }
   ],
   "source": [
    "a + 100"
   ]
  },
  {
   "cell_type": "code",
   "execution_count": 76,
   "id": "ff37816a-01b0-4627-9357-3382fe19a5a4",
   "metadata": {},
   "outputs": [
    {
     "data": {
      "text/plain": [
       "array([0, 0, 0, 0], dtype=int32)"
      ]
     },
     "execution_count": 76,
     "metadata": {},
     "output_type": "execute_result"
    }
   ],
   "source": [
    "a // 10"
   ]
  },
  {
   "cell_type": "code",
   "execution_count": 80,
   "id": "88b7ccc8-379d-45e2-84a9-a5aee58ed02d",
   "metadata": {},
   "outputs": [
    {
     "data": {
      "text/plain": [
       "array([2.8, 3.6, 4. , 4. ])"
      ]
     },
     "execution_count": 80,
     "metadata": {},
     "output_type": "execute_result"
    }
   ],
   "source": [
    "b = 2 * ( a // 2 + 7) /  5\n",
    "b"
   ]
  },
  {
   "cell_type": "code",
   "execution_count": 82,
   "id": "ae742a57-3795-4d04-86b1-a77940e1f4bd",
   "metadata": {},
   "outputs": [
    {
     "data": {
      "text/plain": [
       "array([ 3.8,  7.6, 10. , 11. ])"
      ]
     },
     "execution_count": 82,
     "metadata": {},
     "output_type": "execute_result"
    }
   ],
   "source": [
    "a + b"
   ]
  },
  {
   "cell_type": "markdown",
   "id": "92678968-a05d-4dbc-9a37-705d503d0042",
   "metadata": {},
   "source": [
    "### Comparision operation &  Logical Operation "
   ]
  },
  {
   "cell_type": "code",
   "execution_count": 88,
   "id": "e8067d7d-07ee-410b-be7b-7dd031aff5b3",
   "metadata": {},
   "outputs": [
    {
     "data": {
      "text/plain": [
       "array([False,  True,  True,  True])"
      ]
     },
     "execution_count": 88,
     "metadata": {},
     "output_type": "execute_result"
    }
   ],
   "source": [
    "a >= 2"
   ]
  },
  {
   "cell_type": "code",
   "execution_count": 90,
   "id": "493c5f0d-c3ff-4d51-a5e2-edc51f6ff85e",
   "metadata": {},
   "outputs": [
    {
     "data": {
      "text/plain": [
       "array([False, False, False, False])"
      ]
     },
     "execution_count": 90,
     "metadata": {},
     "output_type": "execute_result"
    }
   ],
   "source": [
    "a == 3"
   ]
  },
  {
   "cell_type": "code",
   "execution_count": 92,
   "id": "2b05c344-55ed-4001-851d-44f77638ab28",
   "metadata": {},
   "outputs": [],
   "source": [
    "a = b"
   ]
  },
  {
   "cell_type": "code",
   "execution_count": 96,
   "id": "e043aa9d-1172-4b66-b07d-44733c170ae0",
   "metadata": {},
   "outputs": [
    {
     "data": {
      "text/plain": [
       "array([ True,  True,  True,  True])"
      ]
     },
     "execution_count": 96,
     "metadata": {},
     "output_type": "execute_result"
    }
   ],
   "source": [
    "a <= b"
   ]
  },
  {
   "cell_type": "markdown",
   "id": "05996eaa-16aa-42b9-9673-3e21fc587209",
   "metadata": {},
   "source": [
    "## Summarizing operation"
   ]
  },
  {
   "cell_type": "code",
   "execution_count": 103,
   "id": "9e9902c5-8d36-4c5d-978c-b550708b4502",
   "metadata": {},
   "outputs": [],
   "source": [
    "a = np.array([\n",
    "    2, 4, 7, 0.9, 39, 12\n",
    "])"
   ]
  },
  {
   "cell_type": "code",
   "execution_count": 105,
   "id": "85f5500e-f9bf-41a5-a008-1a406e54cd8d",
   "metadata": {},
   "outputs": [
    {
     "data": {
      "text/plain": [
       "39.0"
      ]
     },
     "execution_count": 105,
     "metadata": {},
     "output_type": "execute_result"
    }
   ],
   "source": [
    "a.max()"
   ]
  },
  {
   "cell_type": "code",
   "execution_count": 107,
   "id": "d9959468-8686-43ca-b6b9-bb7000db08d6",
   "metadata": {},
   "outputs": [
    {
     "data": {
      "text/plain": [
       "0.9"
      ]
     },
     "execution_count": 107,
     "metadata": {},
     "output_type": "execute_result"
    }
   ],
   "source": [
    "a.min()"
   ]
  },
  {
   "cell_type": "code",
   "execution_count": 109,
   "id": "bdd5e366-70ba-46db-bc35-c64b30e73b61",
   "metadata": {},
   "outputs": [
    {
     "data": {
      "text/plain": [
       "13.120012279804552"
      ]
     },
     "execution_count": 109,
     "metadata": {},
     "output_type": "execute_result"
    }
   ],
   "source": [
    "a.std()"
   ]
  },
  {
   "cell_type": "code",
   "execution_count": 111,
   "id": "8cdecd9e-bd6f-4e85-9cf4-6363217735d9",
   "metadata": {},
   "outputs": [
    {
     "data": {
      "text/plain": [
       "64.9"
      ]
     },
     "execution_count": 111,
     "metadata": {},
     "output_type": "execute_result"
    }
   ],
   "source": [
    "a.sum()"
   ]
  },
  {
   "cell_type": "code",
   "execution_count": 113,
   "id": "0cc0b132-92c2-454c-b747-101b51ade80d",
   "metadata": {},
   "outputs": [
    {
     "data": {
      "text/plain": [
       "10.816666666666668"
      ]
     },
     "execution_count": 113,
     "metadata": {},
     "output_type": "execute_result"
    }
   ],
   "source": [
    "a.mean()"
   ]
  },
  {
   "cell_type": "code",
   "execution_count": null,
   "id": "5721e678-1d22-4dae-b6ee-1e0368e7b513",
   "metadata": {},
   "outputs": [],
   "source": []
  }
 ],
 "metadata": {
  "kernelspec": {
   "display_name": "Python 3 (ipykernel)",
   "language": "python",
   "name": "python3"
  },
  "language_info": {
   "codemirror_mode": {
    "name": "ipython",
    "version": 3
   },
   "file_extension": ".py",
   "mimetype": "text/x-python",
   "name": "python",
   "nbconvert_exporter": "python",
   "pygments_lexer": "ipython3",
   "version": "3.12.4"
  }
 },
 "nbformat": 4,
 "nbformat_minor": 5
}
